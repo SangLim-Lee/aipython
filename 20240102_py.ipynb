{
  "nbformat": 4,
  "nbformat_minor": 0,
  "metadata": {
    "colab": {
      "provenance": [],
      "authorship_tag": "ABX9TyNXUeXOeAGZMMV8eWJdSPVT",
      "include_colab_link": true
    },
    "kernelspec": {
      "name": "python3",
      "display_name": "Python 3"
    },
    "language_info": {
      "name": "python"
    }
  },
  "cells": [
    {
      "cell_type": "markdown",
      "metadata": {
        "id": "view-in-github",
        "colab_type": "text"
      },
      "source": [
        "<a href=\"https://colab.research.google.com/github/SangLim-Lee/aipython/blob/main/20240102_py.ipynb\" target=\"_parent\"><img src=\"https://colab.research.google.com/assets/colab-badge.svg\" alt=\"Open In Colab\"/></a>"
      ]
    },
    {
      "cell_type": "code",
      "execution_count": 8,
      "metadata": {
        "colab": {
          "base_uri": "https://localhost:8080/"
        },
        "id": "h354OFHZB-C-",
        "outputId": "35841269-5182-43a3-c1f7-a5c2b389eb1b"
      },
      "outputs": [
        {
          "output_type": "stream",
          "name": "stdout",
          "text": [
            "우리가 수업하는 실습실:\n",
            "6408\n"
          ]
        }
      ],
      "source": [
        "#하나의 변수를 활용하는 코드입니다.\n",
        "Lab = 6408\n",
        "print('우리가 수업하는 실습실:')\n",
        "print(Lab)\n"
      ]
    },
    {
      "cell_type": "code",
      "source": [
        "#하나의 변수를 활용하는 코드입니다.\n",
        "Lab = 6408\n",
        "print('우리가 수업하는 실습실: ', Lab)\n"
      ],
      "metadata": {
        "colab": {
          "base_uri": "https://localhost:8080/"
        },
        "id": "p0Z1HnJbERKK",
        "outputId": "1e6624a5-c9e1-43e2-f751-95a7a09397c4"
      },
      "execution_count": 9,
      "outputs": [
        {
          "output_type": "stream",
          "name": "stdout",
          "text": [
            "우리가 수업하는 실습실:  6408\n"
          ]
        }
      ]
    },
    {
      "cell_type": "code",
      "source": [
        "# 변수 두 개를 생성하고 값을 할당\n",
        "my_id = 201923161\n",
        "grade = 4\n",
        "# 두 개의 변수에 할당된 값을 출력\n",
        "print('나의 학번: ')\n",
        "print(my_id)\n",
        "print('학년: ')\n",
        "print(grade)\n"
      ],
      "metadata": {
        "colab": {
          "base_uri": "https://localhost:8080/"
        },
        "id": "0VqL1pjDEvGR",
        "outputId": "9ceef002-5b19-4bac-cd76-35dc563140a5"
      },
      "execution_count": 6,
      "outputs": [
        {
          "output_type": "stream",
          "name": "stdout",
          "text": [
            "나의 학번: \n",
            "201923161\n",
            "학년: \n",
            "4\n"
          ]
        }
      ]
    },
    {
      "cell_type": "code",
      "source": [
        "# 변수에 값을 할당하고 출력하는 예제입니다.\n",
        "# dollars 변수에 값을 할당해봅시다.\n",
        "dollars = 2.75\n",
        "print('I have', dollars, 'in my account.')\n",
        "# dollars 변수에 새로운 값을 할당해봅시다.\n",
        "dollars = 99.95\n",
        "print('But now I have', dollars, 'in my account!')\n"
      ],
      "metadata": {
        "colab": {
          "base_uri": "https://localhost:8080/"
        },
        "id": "8D5fz_2sFC7a",
        "outputId": "9787da73-dc9a-4e71-e4e7-5472e74fdbf6"
      },
      "execution_count": 10,
      "outputs": [
        {
          "output_type": "stream",
          "name": "stdout",
          "text": [
            "I have 2.75 in my account.\n",
            "But now I have 99.95 in my account!\n"
          ]
        }
      ]
    },
    {
      "cell_type": "code",
      "source": [
        "# 두 개의 변수를 생성하고 문자열을 할당합니다.\n",
        "department = '재료공학부'\n",
        "name = '이상림'\n",
        "\n",
        "# 각 변수에 할당된 문자열 값을 출력해보자.\n",
        "print(department, name)"
      ],
      "metadata": {
        "colab": {
          "base_uri": "https://localhost:8080/"
        },
        "id": "JRUgynbJFXvQ",
        "outputId": "9a868f5b-d576-40a0-88a3-e6da5efb6762"
      },
      "execution_count": 11,
      "outputs": [
        {
          "output_type": "stream",
          "name": "stdout",
          "text": [
            "재료공학부 이상림\n"
          ]
        }
      ]
    },
    {
      "cell_type": "code",
      "source": [
        "# 학과명을 입력받습니다.\n",
        "department = input('학과명: ')\n",
        "\n",
        "# 여러분의 이름을 입력받습니다.\n",
        "name = input('성명: ')\n",
        "\n",
        "# 두 변수의 값을 출력합니다.\n",
        "print('안녕하세요', department, name,\"입니다.\")"
      ],
      "metadata": {
        "colab": {
          "base_uri": "https://localhost:8080/"
        },
        "id": "mk1VHOI8FygB",
        "outputId": "877684fc-b530-4aa2-d404-fb14e011627e"
      },
      "execution_count": 12,
      "outputs": [
        {
          "output_type": "stream",
          "name": "stdout",
          "text": [
            "학과명: 재료공학부\n",
            "성명: 이상림\n",
            "안녕하세요 재료공학부 이상림 입니다.\n"
          ]
        }
      ]
    },
    {
      "cell_type": "code",
      "source": [
        "# 여러분의 이름, 나이, 통학시간 정보를 입력받습니다.\n",
        "name = input('당신의 이름은 무엇입니까? ')\n",
        "age = int(input('나이는 어떻게 되시나요? '))\n",
        "attending_time = float(input('통학시간은 얼마나 걸립니까? '))\n",
        "\n",
        "# 변수에 입력된 데이터를 출력해봅시다. print('입력 정보는 다음과 같습니다.')\n",
        "print('이름:', name)\n",
        "print('나이:', age,\"세\")\n",
        "print('통학시간:', attending_time,\"시간\")"
      ],
      "metadata": {
        "colab": {
          "base_uri": "https://localhost:8080/"
        },
        "id": "eK7YzFzuGQkZ",
        "outputId": "121850fe-69a9-49ed-c2de-9faa58b97739"
      },
      "execution_count": 15,
      "outputs": [
        {
          "output_type": "stream",
          "name": "stdout",
          "text": [
            "당신의 이름은 무엇입니까? 이상림\n",
            "나이는 어떻게 되시나요? 23\n",
            "통학시간은 얼마나 걸립니까? 0.5\n",
            "이름: 이상림\n",
            "나이: 23 세\n",
            "통학시간: 0.5 시간\n"
          ]
        }
      ]
    },
    {
      "cell_type": "code",
      "source": [
        "# salary 변수에 급여를 할당합니다.\n",
        "salary = 2500.0\n",
        "# bonus 변수에 보너스를 할당합니다.\n",
        "bonus = 1200.0\n",
        "# 급여와 보너스를 더하여 총 급여를 구해봅니다.\n",
        "# 총 급여를 pay 변수에 할당합니다.\n",
        "pay = salary + bonus\n",
        "# 총 급여를 출력합니다.\n",
        "print('총 급여: ', pay)"
      ],
      "metadata": {
        "colab": {
          "base_uri": "https://localhost:8080/"
        },
        "id": "-9o70r0tHLcR",
        "outputId": "5d7b69f7-1b52-4c01-85d2-a0b64b9ec12e"
      },
      "execution_count": 18,
      "outputs": [
        {
          "output_type": "stream",
          "name": "stdout",
          "text": [
            "총 급여:  3700.0\n"
          ]
        }
      ]
    },
    {
      "cell_type": "code",
      "source": [
        "# 본 예제에서는 원가에 할인율을 적용하여 할인가격을 계산해보자.\n",
        "# original price 변수에 원가를 입력받는다.\n",
        "original_price = float(input(\"제품의 원가를 입력해주세요: \"))\n",
        "# 원가에 할인율 20%를 적용하여 할인가를 계산하여 discount 변수에 할당한다.\n",
        "discount = original_price * 0.2\n",
        "# 원가에 할인가가 적용된 제품 가격을 계산하여 sale_price 변수에 할당한다.\n",
        "sale_price = original_price - discount\n",
        "# 할인가가 적용된 제품 가격을 출력한다.\n",
        "print('할인가격: ', sale_price)"
      ],
      "metadata": {
        "colab": {
          "base_uri": "https://localhost:8080/"
        },
        "id": "MOmMyt10HQB5",
        "outputId": "63df4d60-53bb-4e10-efba-415e3e41f688"
      },
      "execution_count": 19,
      "outputs": [
        {
          "output_type": "stream",
          "name": "stdout",
          "text": [
            "제품의 원가를 입력해주세요: 10000.00\n",
            "할인가격:  8000.0\n"
          ]
        }
      ]
    },
    {
      "cell_type": "code",
      "source": [
        "# 세 과목의 평가 점수를 입력받고\n",
        "# test1, test2, test3 변수에 각각 할당한다.\n",
        "test1 = float(input('첫 번째 과목 점수를 입력해주세요: '))\n",
        "test2 = float(input('두 번째 과목 점수를 입력해주세요: '))\n",
        "test3 = float(input('세 번째 과목 점수를 입력해주세요: '))\n",
        "# 각 과목의 점수 평균을 계산하고\n",
        "# 그 결과 값을 average 변수에 할당한다.\n",
        "average = (test1 + test2 + test3) / 3.0\n",
        "# 점수 평균을 출력한다.\n",
        "print('3 과목의 평균 점수: ', average)\n"
      ],
      "metadata": {
        "colab": {
          "base_uri": "https://localhost:8080/"
        },
        "id": "XccdeXQ0HX15",
        "outputId": "05f6dbb6-0bbc-49ea-e4a7-311aec779186"
      },
      "execution_count": 21,
      "outputs": [
        {
          "output_type": "stream",
          "name": "stdout",
          "text": [
            "첫 번째 과목 점수를 입력해주세요: 95\n",
            "두 번째 과목 점수를 입력해주세요: 96\n",
            "세 번째 과목 점수를 입력해주세요: 91\n",
            "3 과목의 평균 점수:  94.0\n"
          ]
        }
      ]
    },
    {
      "cell_type": "code",
      "source": [
        "# 본 예제는 초를 입력받아 시, 분, 초로 변환하는 프로그램이다.\n",
        "# 초 값을 입력받아 total_seconds 변수에 할당한다.\n",
        "total_seconds = float(input('시간 값을 초 단위로 입력해주세요: '))\n",
        "# 시간을 계산하여 hours 변수에 할당한다.\n",
        "hours = total_seconds // 3600\n",
        "# 분을 계산하여 minutes 변수에 할당한다.\n",
        "minutes = (total_seconds // 60) % 60\n",
        "# 초의 나머지 값을 seconds 변수에 할당한다.\n",
        "seconds = total_seconds % 60\n",
        "# 시, 분, 초 값을 출력한다.\n",
        "print('시 분 초는 다음과 같습니다.')\n",
        "print('시: ', hours)\n",
        "print('분: ', minutes)\n",
        "print('초: ', seconds)\n"
      ],
      "metadata": {
        "colab": {
          "base_uri": "https://localhost:8080/"
        },
        "id": "dI2eJjZwHqV5",
        "outputId": "471f2f74-22c1-4a40-eb27-32a9bf83495c"
      },
      "execution_count": 24,
      "outputs": [
        {
          "output_type": "stream",
          "name": "stdout",
          "text": [
            "시간 값을 초 단위로 입력해주세요: 22730\n",
            "시 분 초는 다음과 같습니다.\n",
            "시:  6.0\n",
            "분:  18.0\n",
            "초:  50.0\n"
          ]
        }
      ]
    },
    {
      "cell_type": "code",
      "source": [
        "# 본 예제는 목표액을 특정 이율로 얻고자 할 경우 매년 적립해야할 금액을 계산해보자.\n",
        "# 목표액을 입력받고 future_value 변수에 할당한다.\n",
        "future_value = float(input('목표 금액을 입력해주세요: '))\n",
        "# 연간 이율을 입력받고 rate 변수에 할당한다.\n",
        "rate = float(input('연간 이율을 입력해주세요: '))\n",
        "# 적립 기간을 입력받고 years 변수에 할당한다.\n",
        "years = int(input('저축 기간을 연 단위로 입력해주세요: '))\n",
        "# 특정 기간동안 적립해야할 금액을 계산하여 present_value 변수에 할당한다.\n",
        "present_value = future_value / (1.0 + rate)**years\n",
        "# 적립 금액을 출력한다.\n",
        "print('적립 금액: ', present_value)\n"
      ],
      "metadata": {
        "colab": {
          "base_uri": "https://localhost:8080/"
        },
        "id": "UKG6KHl8JaXY",
        "outputId": "6a5cc8c5-09cc-4fd2-985b-147feb928890"
      },
      "execution_count": 25,
      "outputs": [
        {
          "output_type": "stream",
          "name": "stdout",
          "text": [
            "목표 금액을 입력해주세요: 1000000.0\n",
            "연간 이율을 입력해주세요: 0.055\n",
            "저축 기간을 연 단위로 입력해주세요: 10\n",
            "적립 금액:  585430.5794276072\n"
          ]
        }
      ]
    },
    {
      "cell_type": "code",
      "source": [
        "# print() 함수에서 쉼표로 데이터를 구분하여 출력할 때\n",
        "# 자동적으로 분리되는 빈 칸을 sep 옵션으로 제어할 수 있다.\n",
        "print('a','b','c')\n",
        "print('a','b','c',sep='')\n",
        "print('a','b','c',sep='***')\n"
      ],
      "metadata": {
        "colab": {
          "base_uri": "https://localhost:8080/"
        },
        "id": "t--dhn0NJxPB",
        "outputId": "34467583-6f49-4dd6-a73d-af309d9611e0"
      },
      "execution_count": 26,
      "outputs": [
        {
          "output_type": "stream",
          "name": "stdout",
          "text": [
            "a b c\n",
            "abc\n",
            "a***b***c\n"
          ]
        }
      ]
    },
    {
      "cell_type": "code",
      "source": [
        "# print() 함수를 여러 번 사용할 경우, 각 print() 함수가 수행된 후에는\n",
        "# 자동적으로 줄바꿈이 일어난다. 이는 커서가 자동으로 내려가기 때문인데\n",
        "# 커서를 줄바꿈시키지 않고 바로 옆에 놓고 같은 줄에 여러 print() 함수의 내용을\n",
        "# 나타내고자 할 때 end 옵션을 사용할 수 있다.\n",
        "print('a')\n",
        "print('b')\n",
        "print('c', end='')\n",
        "print('d', end='')\n",
        "print('e', end='***')\n",
        "print('f')"
      ],
      "metadata": {
        "colab": {
          "base_uri": "https://localhost:8080/"
        },
        "id": "bUwUgqC9J13y",
        "outputId": "09431dc4-4f6d-4829-947d-6210ddd87932"
      },
      "execution_count": 27,
      "outputs": [
        {
          "output_type": "stream",
          "name": "stdout",
          "text": [
            "a\n",
            "b\n",
            "cde***f\n"
          ]
        }
      ]
    },
    {
      "cell_type": "code",
      "source": [
        "# 본 예제는 부동 소수점이 출력되는 연산을 수행해본다.\n",
        "# 소수점 길이를 제어하지 않고 결과 값을 출력한다.\n",
        "amount_due = 5000.0\n",
        "monthly_payment = amount_due / 12.0\n",
        "print('월급여: ', monthly_payment)"
      ],
      "metadata": {
        "colab": {
          "base_uri": "https://localhost:8080/"
        },
        "id": "8xdEPKn_J5w5",
        "outputId": "5f4f9a83-f7a2-4b14-95b7-855aecb501e1"
      },
      "execution_count": 28,
      "outputs": [
        {
          "output_type": "stream",
          "name": "stdout",
          "text": [
            "월급여:  416.6666666666667\n"
          ]
        }
      ]
    },
    {
      "cell_type": "code",
      "source": [
        "# 본 예제에서는 소수점 자리를 제어하여 결과를 출력해보자.\n",
        "amount_due = 5000.0\n",
        "monthly_payment = amount_due / 12\n",
        "print('월급여: ', format(monthly_payment, '.2f'))"
      ],
      "metadata": {
        "colab": {
          "base_uri": "https://localhost:8080/"
        },
        "id": "xufMpCmIJ-BA",
        "outputId": "53e54a5c-bbc9-4cde-f41b-81bbca270337"
      },
      "execution_count": 29,
      "outputs": [
        {
          "output_type": "stream",
          "name": "stdout",
          "text": [
            "월급여:  416.67\n"
          ]
        }
      ]
    },
    {
      "cell_type": "code",
      "source": [
        "# 본 예제도 소수점 자리를 제어하여 결과를 출력해보자.\n",
        "monthly_pay = 5000.0\n",
        "annual_pay = monthly_pay * 12\n",
        "print('Your annual pay is $', format(annual_pay, ',.2f'), sep='')"
      ],
      "metadata": {
        "colab": {
          "base_uri": "https://localhost:8080/"
        },
        "id": "5p915godKAmK",
        "outputId": "d8c6b979-85c6-4061-e2e3-7b768937e111"
      },
      "execution_count": 30,
      "outputs": [
        {
          "output_type": "stream",
          "name": "stdout",
          "text": [
            "Your annual pay is $60,000.00\n"
          ]
        }
      ]
    },
    {
      "cell_type": "markdown",
      "source": [],
      "metadata": {
        "id": "SEcDYnTeKR3K"
      }
    },
    {
      "cell_type": "code",
      "source": [
        "# 본 예제는 부동 소수점을 특정 너비에 맞추어 출력하는 방법에 대해 알아보자.\n",
        "# 아래와 같이 각 변수에 부동 소수점이 포함된 값을 할당한다.\n",
        "num1 = 127.899\n",
        "num2 = 3465.148\n",
        "num3 = 3.776\n",
        "num4 = 264.821\n",
        "num5 = 88.081\n",
        "num6 = 799.999\n",
        "# 7칸에 맞추어 부동 소수점이 포함된 변수 값을 출력한다.\n",
        "print(format(num1, '7.2f'))\n",
        "print(format(num2, '7.2f'))\n",
        "print(format(num3, '7.2f'))\n",
        "print(format(num4, '7.2f'))\n",
        "print(format(num5, '7.2f'))\n",
        "print(format(num6, '7.2f'))\n"
      ],
      "metadata": {
        "colab": {
          "base_uri": "https://localhost:8080/"
        },
        "id": "SY5IUcYyKGDg",
        "outputId": "4edaeed7-d5ab-47cd-893c-9f9b2234ee0b"
      },
      "execution_count": 31,
      "outputs": [
        {
          "output_type": "stream",
          "name": "stdout",
          "text": [
            " 127.90\n",
            "3465.15\n",
            "   3.78\n",
            " 264.82\n",
            "  88.08\n",
            " 800.00\n"
          ]
        }
      ]
    }
  ]
}