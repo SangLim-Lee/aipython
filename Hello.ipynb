{
  "nbformat": 4,
  "nbformat_minor": 0,
  "metadata": {
    "colab": {
      "provenance": [],
      "authorship_tag": "ABX9TyNc8dg6IEY2VssGRYLwsRt3",
      "include_colab_link": true
    },
    "kernelspec": {
      "name": "python3",
      "display_name": "Python 3"
    },
    "language_info": {
      "name": "python"
    }
  },
  "cells": [
    {
      "cell_type": "markdown",
      "metadata": {
        "id": "view-in-github",
        "colab_type": "text"
      },
      "source": [
        "<a href=\"https://colab.research.google.com/github/SangLim-Lee/aipython/blob/main/Hello.ipynb\" target=\"_parent\"><img src=\"https://colab.research.google.com/assets/colab-badge.svg\" alt=\"Open In Colab\"/></a>"
      ]
    },
    {
      "cell_type": "code",
      "execution_count": null,
      "metadata": {
        "colab": {
          "base_uri": "https://localhost:8080/"
        },
        "id": "ygG9KlojLtUf",
        "outputId": "420369b3-2b73-4909-d0c5-329bec7427a7"
      },
      "outputs": [
        {
          "output_type": "stream",
          "name": "stdout",
          "text": [
            "hello world\n"
          ]
        }
      ],
      "source": [
        "#출력하기\n",
        "print(\"hello world\")\n"
      ]
    },
    {
      "cell_type": "code",
      "source": [
        "a, b = map(int, input().split())\n",
        "if a > b:\n",
        "  print(\">\")\n",
        "elif a < b:\n",
        "  print(\"<\")\n",
        "else:\n",
        "  print(\"==\")"
      ],
      "metadata": {
        "id": "TL1_6g_5L08s",
        "colab": {
          "base_uri": "https://localhost:8080/"
        },
        "outputId": "38e15ee9-34b7-460a-d7aa-094f8d9fa09d"
      },
      "execution_count": null,
      "outputs": [
        {
          "output_type": "stream",
          "name": "stdout",
          "text": [
            "2 2\n",
            "==\n"
          ]
        }
      ]
    },
    {
      "cell_type": "code",
      "source": [],
      "metadata": {
        "id": "C2PIsAaERSJi"
      },
      "execution_count": null,
      "outputs": []
    }
  ]
}