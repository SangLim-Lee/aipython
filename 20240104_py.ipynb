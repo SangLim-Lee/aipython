{
  "nbformat": 4,
  "nbformat_minor": 0,
  "metadata": {
    "colab": {
      "provenance": [],
      "authorship_tag": "ABX9TyODr742JDtwfPVz9CCjeEvx",
      "include_colab_link": true
    },
    "kernelspec": {
      "name": "python3",
      "display_name": "Python 3"
    },
    "language_info": {
      "name": "python"
    }
  },
  "cells": [
    {
      "cell_type": "markdown",
      "metadata": {
        "id": "view-in-github",
        "colab_type": "text"
      },
      "source": [
        "<a href=\"https://colab.research.google.com/github/SangLim-Lee/aipython/blob/main/20240104_py.ipynb\" target=\"_parent\"><img src=\"https://colab.research.google.com/assets/colab-badge.svg\" alt=\"Open In Colab\"/></a>"
      ]
    },
    {
      "cell_type": "code",
      "execution_count": 3,
      "metadata": {
        "colab": {
          "base_uri": "https://localhost:8080/"
        },
        "id": "aLB-IJ6vdGyV",
        "outputId": "a7fb0387-226b-42cf-9124-b2432114dd99"
      },
      "outputs": [
        {
          "output_type": "stream",
          "name": "stdout",
          "text": [
            "학생의 점수를 입력하세요: 90\n",
            "학생의 점수를 입력하세요: 70\n",
            "학생의 점수를 입력하세요: 30\n",
            "학생의 점수를 입력하세요: x\n",
            "\n",
            "입력 데이터 출력: [90, 70, 30]\n",
            "합계: 190\n",
            "인원수: 3\n",
            "평균: 63.333333333333336\n"
          ]
        }
      ],
      "source": [
        "scores = []\n",
        "total = 0\n",
        "count = 0\n",
        "\n",
        "while True:\n",
        "    score_input = input(\"학생의 점수를 입력하세요: \")\n",
        "\n",
        "    if score_input.lower() == 'x':\n",
        "        break  # 'x'가 입력되면 루프 종료\n",
        "\n",
        "    if score_input.isdigit():  # 입력이 숫자인지 확인\n",
        "        score = float(score_input)\n",
        "\n",
        "        # 유효한 점수 범위를 확인하여 추가\n",
        "        if 0 <= score <= 100:\n",
        "            scores.append(int(score))  # 각 점수를 정수로 변환하여 저장\n",
        "            total += score\n",
        "            count += 1\n",
        "        else:\n",
        "            print(\"유효한 점수 범위는 0에서 100 사이입니다.\")\n",
        "    else:\n",
        "        print(\"숫자를 입력하세요.\")\n",
        "\n",
        "if count == 0:\n",
        "    print(\"입력된 학생이 없습니다.\")\n",
        "else:\n",
        "    average = total / count\n",
        "    print(\"\\n입력 데이터 출력:\", scores)\n",
        "    print(f\"합계: {int(total)}\")\n",
        "    print(f\"인원수: {count}\")\n",
        "    print(f\"평균: {average}\")"
      ]
    }
  ]
}